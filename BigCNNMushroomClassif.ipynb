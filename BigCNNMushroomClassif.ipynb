{
  "nbformat": 4,
  "nbformat_minor": 0,
  "metadata": {
    "colab": {
      "name": "Getting started with BigQuery",
      "provenance": [],
      "collapsed_sections": [],
      "include_colab_link": true
    },
    "kernelspec": {
      "display_name": "Python 3",
      "name": "python3"
    }
  },
  "cells": [
    {
      "cell_type": "markdown",
      "metadata": {
        "id": "view-in-github",
        "colab_type": "text"
      },
      "source": [
        "<a href=\"https://colab.research.google.com/github/CMallart/ateliers-NN/blob/main/BigCNNMushroomClassif.ipynb\" target=\"_parent\"><img src=\"https://colab.research.google.com/assets/colab-badge.svg\" alt=\"Open In Colab\"/></a>"
      ]
    },
    {
      "cell_type": "code",
      "metadata": {
        "id": "lFaJPBTGnFgS"
      },
      "source": [
        "import numpy as np\n",
        "import datetime, os\n",
        "from tensorflow.keras.models import Sequential, Model\n",
        "from tensorflow.keras.layers import Dense, Activation, Conv2D, MaxPooling2D, Flatten, Dropout\n",
        "from tensorflow.keras.losses import CategoricalCrossentropy\n",
        "from tensorflow.keras.optimizers import Adam, RMSprop, SGD\n",
        "from tensorflow.keras.callbacks import EarlyStopping, TensorBoard\n",
        "from tensorflow.keras.preprocessing.image import ImageDataGenerator, array_to_img, img_to_array, load_img\n",
        "from tensorflow.keras.models import load_model\n",
        "from tensorflow.keras.callbacks import EarlyStopping, TensorBoard\n",
        "from sklearn.metrics import balanced_accuracy_score, confusion_matrix\n",
        "\n",
        "\n",
        "def build_CNN(input_dim, output_dim, lr=0.001):\n",
        "    model = Sequential()\n",
        "\n",
        "    model.add(Conv2D(32, (3, 3), input_shape=input_dim, activation=\"relu\"))\n",
        "    model.add(MaxPooling2D(pool_size=(2,2)))\n",
        "    model.add(Dropout(rate=0.1))\n",
        "\n",
        "    model.add(Conv2D(64, (3, 3), input_shape=input_dim, activation=\"relu\"))\n",
        "    model.add(MaxPooling2D(pool_size=(2,2)))\n",
        "    model.add(Dropout(rate=0.1))\n",
        "\n",
        "    model.add(Conv2D(64, (3, 3), input_shape=input_dim, activation=\"relu\"))\n",
        "    model.add(MaxPooling2D(pool_size=(2,2)))\n",
        "    model.add(Dropout(rate=0.1))\n",
        "\n",
        "    model.add(Flatten())\n",
        "    model.add(Dense(64, activation=\"relu\"))\n",
        "    model.add(Dropout(rate=0.1))\n",
        "\n",
        "    model.add(Dense(output_dim))\n",
        "\n",
        "    model.compile(loss=CategoricalCrossentropy(from_logits=True), optimizer='rmsprop', metrics=['accuracy'])\n",
        "\n",
        "    return model\n",
        "\n",
        "\n",
        "def build_CNN_from_pretrained(file_name, output_dim, lr=0.001):\n",
        "    model = load_model(file_name)\n",
        "    model.pop()\n",
        "\n",
        "    model.add(Dense(output_dim, name='dense_2'))\n",
        "\n",
        "    model.compile(loss=CategoricalCrossentropy(from_logits=True), optimizer='adam', metrics=['accuracy'])\n",
        "    return model"
      ],
      "execution_count": 1,
      "outputs": []
    },
    {
      "cell_type": "code",
      "metadata": {
        "id": "Xh0MoArLnveF",
        "outputId": "7d332f57-566d-43bf-8b95-3c7b3d2081a5",
        "colab": {
          "base_uri": "https://localhost:8080/",
          "height": 34
        }
      },
      "source": [
        "from google.colab import drive\n",
        "drive.mount(\"/content/drive\", force_remount=True)"
      ],
      "execution_count": 3,
      "outputs": [
        {
          "output_type": "stream",
          "text": [
            "Mounted at /content/drive\n"
          ],
          "name": "stdout"
        }
      ]
    },
    {
      "cell_type": "code",
      "metadata": {
        "id": "wkQiZfDsnmqB"
      },
      "source": [
        "#Q2: Ajouter l'attribut rescale aux générateurs\n",
        "train_generator = ImageDataGenerator(rescale=1/255,\n",
        "                                     rotation_range=20,\n",
        "                                     width_shift_range=0.2,\n",
        "                                     height_shift_range=0.2,\n",
        "                                     horizontal_flip=True,\n",
        "                                     zoom_range=0.1)\n",
        "valid_generator = ImageDataGenerator(rescale=1/255)\n",
        "\n",
        "epochs = 50\n",
        "batch_size = 64\n",
        "\n",
        "#Q2: Ajouter les attributs \"target_size\" et \"batch_size\"\n",
        "train_flow = train_generator.flow_from_directory(\"data/train\", class_mode='categorical',\n",
        "        target_size=(32, 32), batch_size=batch_size)\n",
        "valid_flow = train_generator.flow_from_directory(\"data/valid\", class_mode='categorical',\n",
        "        target_size=(32, 32), batch_size=batch_size)\n",
        "\n",
        "from_scratch = False\n",
        "if from_scratch:\n",
        "    # Q2: compléter l'appel à la fonction build_CNN()\n",
        "    cnn_model = build_CNN((32, 32, 3), 2)\n",
        "    label = 'from_scratch'\n",
        "else:\n",
        "    cnn_model = build_CNN_from_pretrained('pretrained_model.h5', 2)\n",
        "    label = 'from_pretrained'\n",
        "cnn_model.summary()\n",
        "\n",
        "#Q2: compléter l'appel aux fonctions fit() et evaluate()\n",
        "tensorboard_callback = TensorBoard(log_dir='logs/' + label, histogram_freq=int(epochs/10))\n",
        "\n",
        "cnn_model.fit(\n",
        "        train_flow,\n",
        "        epochs=epochs,\n",
        "        validation_data=valid_flow,\n",
        "        callbacks=[tensorboard_callback])\n",
        "\n",
        "cnn_model.evaluate(valid_flow, verbose=2)\n",
        "\n"
      ],
      "execution_count": null,
      "outputs": []
    }
  ]
}