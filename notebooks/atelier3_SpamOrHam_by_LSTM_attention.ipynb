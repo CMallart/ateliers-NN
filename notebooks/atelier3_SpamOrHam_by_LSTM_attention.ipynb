{
  "nbformat": 4,
  "nbformat_minor": 0,
  "metadata": {
    "colab": {
      "name": "introLstmAttention.ipynb",
      "provenance": [],
      "collapsed_sections": [],
      "authorship_tag": "ABX9TyPNUKflNjuKGEyDkhZMlIIb"
    },
    "kernelspec": {
      "name": "python3",
      "display_name": "Python 3"
    }
  },
  "cells": [
    {
      "cell_type": "markdown",
      "metadata": {
        "id": "mTuuSwd9xG4_"
      },
      "source": [
        "# RNN et compagnie\n",
        "\n",
        "Nous allons voir ce qu'est un réseau de neurones récurrent, en quoi il est utile et quelles sont les applications possibles.\n",
        "Face à un GROS problème des RNN, nous verrons un autre type de RNN moins naif : le Long-Short Term Memory. Enfin, face à encore une autre limitation des LSTM, nous verrons une dernière amélioration qui ouvre la porte à l'état de l'art : le mécanisme d'attention.\n",
        "\n",
        "On arrête pas le progrès.\n",
        "\n",
        "Teaser: s'il reste un peu de temps, je peux vous présenter rapidement -et superficiellement- les Transformers/Bert et/ou GPT 3, deux des derniers états de l'art en NLP."
      ]
    },
    {
      "cell_type": "markdown",
      "metadata": {
        "id": "BdzCjRdSx_K-"
      },
      "source": [
        "#1. RNN- LSTM : théorie et applications\n",
        "\n",
        "Jusqu'à present, nous avons vu comment traiter des donnees qui se comportent bien :\n",
        "  - Des tableaux de chiffres\n",
        "  - Des variables catégorielles pouvant être discretisées\n",
        "  - Des images, qui sont de belles matrices de chiffres\n",
        "\n",
        "Mais comment faire avec des données un peu plus punk ?\n",
        "ex: les séries temporelles, des enregistrements audio ou des textes de journaux.\n",
        "\n",
        "Le point commun de tous ces types de données est qu'on trouve des durées variables à l'intérieur d'un même dataset: des phrases plus ou moins longues, des enregitrements de quelques secondes vs quelques minutes, etc. De plus, l'information à date $t$ dépend souvent de l'information à $t-1$: le mot d'après dépend du mot d'avant dans une phrase, le prix d'une action dépend de son prix il y a trois heures. A cette fin, on utilise un réseau de neurones récurrent, ou RNN.\n",
        "\n",
        "##a. RNN \"vanilla\"\n",
        "\n",
        "L'idée du RNN a été proposée en 1986, quand les auteurs de [1] ont réussi à réaliser la backpropagation d'un tel réseau. De nombreuses variantes existent, mais nous présentons ici un RNN relativement agnostique à toutes ces petites variations.\n",
        "\n",
        "![rnn unfolded](https://drive.google.com/uc?id=1cJjqpuBYDjFdcq-voRzfsRslWUuftNlC)\n",
        "\n",
        "Un RNN est donc un réseau de neurones qui prend en compte des données séquentielles. Le but est de prendre en compte le passé pour donner du sens au présent, et de prendre en compte tous les mots d'une phrase par exemple, dans la représentation finale.\n",
        "\n",
        "Soit une séquence de données $x$=$x_1, x_2, ...x_T$. On va entrainer le même réseau $T$ fois, soit autant que de mots dans la phrase. Chaque input sera un mélange de nouvelle information (un nouveau $x_t$) et de la connaissance passée (stockée dans l'output précédent $h_t$)\n",
        "\n",
        "Pour les états cachés, on a donc les équations suivantes (en omettant les biais) pour la passe en avant:\n",
        "\\begin{eqnarray}\n",
        "h_t = \\theta \\left( W \\cdot \\left[ x_t, h_{t-1}\\right] \\right)\n",
        "& =\\theta \\left( W_X x_t + W_H h_{t-1}\\right)\n",
        "\\end{eqnarray}\n",
        "où\n",
        "- $\\theta$ est $tanh$, ou n'importe quelle fonction d'activation\n",
        "- W une matrice de poids\n",
        "- $x_t$ l'input à date t\n",
        "- $h_{t-1}$ l'état précédent du RNN\n",
        "\n",
        "\\begin{equation}\n",
        "y_t = F(W_Yh_t)\n",
        "\\end{equation}\n",
        "où\n",
        "- $y_t$ est l'output du réseau pour une date $t$\n",
        "- $W_Y$ est une matrice de poids\n",
        "- $F()$ est une fonction d'activation, originellement juste l'identité\n",
        "- $h_t$ est l'état caché du réseau pour une date $t$\n",
        " \n",
        "\n",
        "\n",
        "On peut réécrire ces équations plus formellement avec :\n",
        "$h_t = \\begin{pmatrix} h_{t1} & h_{t2} & \\dots & h_{tH} \\end{pmatrix} ^\\intercal$,  $y_t = \\begin{pmatrix} y_{t1} & y_{t2} & \\dots & y_{tN} \\end{pmatrix}^\\intercal$ et $x_t = \\begin{pmatrix} x_{t1} & x_{t2} & \\dots & x_{tI} \\end{pmatrix}^\\intercal$\n",
        "\n",
        "et en passant la notation de temps en exposant pour plus de lisibilité :\n",
        "$h_{k}^t = \\sum_{i=1}^I w_{ik}x_i^t + \\sum_{d=1}^H w_{dk}b_{d}^{t-1}$\n",
        "\n",
        "$b_h^t = \\theta_h \\left( h_k^t \\right)$\n",
        "\n",
        "$y_h^t = \\sum_{h'=1}^H w_{h'k}b_h^t$\n",
        "\n",
        "\n",
        "\n",
        "\n",
        "Pour plus de détails + source de l'image :\n",
        "https://karpathy.github.io/2015/05/21/rnn-effectiveness/\n",
        "\n",
        "[1] Rumelhart, D., Hinton, G. & Williams, R. Learning representations by back-propagating errors. Nature 323, 533–536 (1986). https://doi.org/10.1038/323533a0\n",
        "\n",
        "##b.LSTM\n",
        "\n",
        "Un RNN basique prend donc en compte ce qui se passe l'étape d'avant pour décider de l'étape d'après. Mais souvent, on a besoin d'apprendre plus loin que l'étape précédente, et de prendre en compte tout le passé, ou du moins le plus pertinent. \n",
        "\n",
        "Si vous voyez un individu s'avancer vers vous avec un couteau, vous allez surement courir. Sauf si vous vous souvenez que c'est votre ami Jérémy qui vous rend le couteau de votre grand-père que vous lui aviez prété.\n",
        "Mais le fait que c'est le couteau de votre grand-père a peu d'importance comparé au fait que vous avez convaincu son-sa fiancé-e de convoler avec vous la veille de leur mariage. Tout l'enjeu d'un LSTM est de se souvenir des faits les plus saillants pour obtenir les meilleures représentations des situations.\n",
        "\n",
        "Un réseau Long-Short Term Memory est un RNN avec des portes, qui gèrent l'oubli des valeurs précédentes. Dans sa version la plus courante, celle de [2], une cellule LSTM possède trois portes, que nous allons décomposer.\n",
        "\n",
        "![lstm cell](https://drive.google.com/uc?id=1LfOd1ZkJf25tEQGo8AYqADYoYm_VNyt4)\n",
        "![lstm cell](https://drive.google.com/uc?id=1Ho4pj0ybUHAUzAlyEssuF8VXc7II6vqp)\n",
        "\n",
        "Premièrement, une \"cellule\" LSTM est comme une \"cellule\" de RNN, on lui passe un état caché et un input $x_t$ et il calcule des choses. L'état interne n'est plus l'état caché ni un simple produit suivi d'une multiplication, mais il reste simple : c'est la ligne du haut dans la cellule, $C_t^l$\n",
        "\n",
        "Les trois portes sont trois sigmoides, qui donnent des valeurs entre 0 et 1, 0 signifiant \"on laisse rien passer\"/\"on oublie tout\" et 1 signifiant \"on laisse passer toute l'information\".\n",
        "\n",
        "1. La première porte, $f_t$, s'appelle \"forget gate layer\" (la porte de l'oubli). Elle regarde l'état caché précédent, la nouvelle valeur, et décide de garder ou pas l'ancienne mémoire.\n",
        "$$f_t = \\sigma\\left( W \\cdot \\left[ x_t, h_{t-1}\\right] + b_f \\right)$$\n",
        "Cette équation ne vous rapelle pas quelque chose ?\n",
        "\n",
        "2. La deuxième porte $i_t$ est l'\"input gate layer\"(la porte de l'entrée/la contribution). Elle décide quelles valeurs vont être modifiées/mises à jour.\n",
        "En parallèle, une autre couche tanh crée de nouvelles valeurs candidates: quelles seraient les valeurs si on pouvait toutes les mettre à jour. Quand on combine les deux, cela nous donne les nouvelles valeurs à garder en mémoire.\n",
        "$$i_t = \\sigma \\left( W_i \\cdot [x_t, h_{t-1}] +b_i \\right)$$\n",
        "$$\\tilde{C}_t = tanh \\left( W_C \\cdot[x_t, h_{t-1}] +b_C \\right)$$\n",
        "\n",
        "et donc :\n",
        "$$\\hat{C}_t = i_t * \\tilde{C}_t $$\n",
        "\n",
        "Ces deux portes apportent des modifications à l'état interne de la cellule, en décidant d'à quel point on retient le passé, et comment modifier l'état interne de la cellulle pour prendre en compte les nouvelles valeurs.\n",
        "\n",
        "$$C_t = f_t * C_{t-1} + \\hat{C}_t = f_t * C_{t-1} + i_t * \\tilde{C}_t$$\n",
        "\n",
        "3. La dernière porte est l'\"output gate\" (la porte de sortie). Elle ne touche plus à la mémoire de la cellule, toutes les modifications ont déjà été faites. Elle se contente de filtrer ce qu'il y a en mémoire pour donner une sortie. On prend l'état courant, que l'on fait passer par tanh (pour normaliser). En parallèle, une couche sigmoide décide de quelles valeurs on va donner en sortie. Comme pour l'input, la multiplication des 2 donne les valeurs de l'ouput.\n",
        "\n",
        "$$o_t = \\sigma \\left( W_o [x_t, h_{t-1}] +b_o \\right)$$\n",
        "$$h_t = o_t * tanh \\left( C_t \\right)$$\n",
        "\n",
        "---\n",
        "\n",
        "Un exemple filé : prédire un mot plausible après dans la phrase \"Mon frère est avocat, ma soeur est _____\".\n",
        "- La première porte de l'oubli permet par exemple d'oublier l'information sur le genre: nous avions un genre masculin, mais le fait d'avoir vu un nouveau sujet féminin, 'soeur', nous indique que maintenant le sujet est féminin. Quand on voit un nouveau sujet, on veut oublier le genre de l'ancien.\n",
        "- La deuxième porte de l'entrée, elle, va permettre de mettre dans l'état interne (ie, en mémoire), que le sujet courant est de genre féminin.\n",
        "- La porte de sortie, va elle, voir que nous avions un verbe, elle va donc surement donner de l'information concernant un nom, car souvent un nom vient apres un verbe. Il va donc donner le genre et le nombre du sujet, la conjugaison du verbe, pour accorder le nom qui vient.\n",
        "\n",
        "Les LSTM ont été un énorme pas dans ce que l'on peut faire avec les RNN. Y a-t-il eu d'autres grands pas derrière ? Oui, il y a un consensus pour dire que le grand pas d'après a été l'attention. Ce n'est pas le seul, mais il est à la base d'un modèle qui fut état-de-l'art jusqu'en juillet 2020.\n",
        "\n",
        "Plus de détails +source de l'image :\n",
        "http://colah.github.io/posts/2015-08-Understanding-LSTMs/\n",
        "\n",
        "[2] Hochreiter, Sepp & Schmidhuber, Jürgen. (1997). Long Short-term Memory. Neural computation. 9. 1735-80. 10.1162/neco.1997.9.8.1735. \n",
        "\n",
        "\n",
        "##c. Méchanisme d'attention\n",
        "\n",
        "###1. Modèle seq2seq : motivation pour l'attention\n",
        "\n",
        "Historiquement, seq2seq est un modèle qui permet de faire de la traduction: on donne une séquence, le modèle sort une nouvelle séquence.\n",
        "\n",
        "La mécanique basique est consitué de deux LSTM l'un après l'autre : le premier, appelé encodeur, encode toute la séquence dans le dernier état caché $h_T$. \n",
        "Le deuxième LSTM, le décodeur, prend en entrée cet encoding de la séquence et le premier mot (un token \\<START\\>), et sort un premier output. A chaque étape, il prend l'état caché $h'_t$ précédent et l'output qu'il vient de faire (le dernier mot prédit) pour faire une prédiction. On continue comme ça jusqu'à prédire un token de fin (\\<END\\>)\n",
        "\n",
        "![lstm cell](https://drive.google.com/uc?id=13fmMDB3on4a9ZYnuYSCqpORBsxB-ESyb)\n",
        "\n",
        "Le problème se trouve dans l'état du milieu, le fameux $c$, qui doit contenir toute l'information de la phrase. En réalité, si ce dernier output d'un LSTM est souvent suffisant pour encoder un thème, un sentiment, un topic général de la phrase, il n'est pas suffisant pour retenir toute l'information nécéssaire à une traduction. Il lui manque un élément crucial, le contexte.\n",
        "\n",
        "###2.Attention générale\n",
        "\n",
        "C'est là qu'apparait l'attention.\n",
        "L'attention, de façon très générale, est une couche d'un réseau de neurones qui est en charge de quantifier les interdependences entre les inputs/outputs (attention générale) ou entre les inputs eux-mêmes (self-attention). Nous parlerons ici d'attention générale.\n",
        "\n",
        "Il existe deux méthodes d'attention principales, globale\\/ soft\\/ Bahdanau ou local\\/ hard\\/ Luong du nom des deux chercheurs ayant développé ces deux attentions.\n",
        "\n",
        "Le premier morceau reste le même, un LSTM classique avec ses inputs, ses états cachés et internes $h_t$ et $C_t$.\n",
        "\n",
        "Lors du décodage, au lieu de passer dans la cellule le dernier $y_t$ et uniquement le dernier état caché $h_t$, on concatène au dernier état caché un vecteur de contexte. Ce vecteur de contexte cherche à montrer à quel point le dernier état caché du décodeur s'aligne avec tout les états cachés de l'encodeur.\n",
        "\n",
        "$h_1, h_2...$ = états cachés du décodeur, \n",
        "$\\bar{h}_1, \\bar{h}_2, ...$ = états cachés de l'encodeur. \n",
        "\n",
        "On choisit d'abord un score d'alignement entre les $h$ et les $\\bar{h}$. Le choix de ce score est ce qui fait la différence entre Bahdanau et Luong.\n",
        "\n",
        "$$score$$\n",
        "\n",
        "\n",
        "https://machinelearningmastery.com/attention-long-short-term-memory-recurrent-neural-networks/\n",
        "\n",
        "https://blog.floydhub.com/attention-mechanism/\n",
        "\n"
      ]
    },
    {
      "cell_type": "markdown",
      "metadata": {
        "id": "a5pHxTrO9Gs7"
      },
      "source": [
        "#2. Données de travail : spam or ham ?\n"
      ]
    },
    {
      "cell_type": "code",
      "metadata": {
        "id": "GmmGMFRo9OPr"
      },
      "source": [
        "import pandas as pd\n",
        "import numpy as np\n",
        "import nltk\n",
        "import matplotlib.pyplot as plt\n",
        "from tensorflow.keras.preprocessing import text\n",
        "from tensorflow.keras.preprocessing import sequence\n",
        "import re\n",
        "from sklearn.model_selection import train_test_split\n",
        "\n",
        "from tensorflow.keras.layers import Input, SimpleRNN, Dense, Embedding, LSTM, Masking, Concatenate\n",
        "from tensorflow.keras import Model\n",
        "from tensorflow.keras.optimizers import SGD, Adam\n",
        "from keras.callbacks import LambdaCallback, History\n",
        "\n",
        "from sklearn.model_selection import train_test_split, KFold, GridSearchCV\n",
        "from sklearn.metrics import confusion_matrix, classification_report, accuracy_score\n",
        "import itertools"
      ],
      "execution_count": 1,
      "outputs": []
    },
    {
      "cell_type": "code",
      "metadata": {
        "id": "bbVOY6MA9YX-",
        "outputId": "ce859f8a-daa9-4e20-ae06-1dd208888eb0",
        "colab": {
          "base_uri": "https://localhost:8080/",
          "height": 175
        }
      },
      "source": [
        "#Import the data, check it\n",
        "data = pd.read_csv(\"https://raw.githubusercontent.com/CMallart/ateliers-NN/main/data/spamorham/SPAM%20text%20message%2020170820%20-%20Data.csv\")\n",
        "data.head()\n",
        "data.describe()"
      ],
      "execution_count": 36,
      "outputs": [
        {
          "output_type": "execute_result",
          "data": {
            "text/html": [
              "<div>\n",
              "<style scoped>\n",
              "    .dataframe tbody tr th:only-of-type {\n",
              "        vertical-align: middle;\n",
              "    }\n",
              "\n",
              "    .dataframe tbody tr th {\n",
              "        vertical-align: top;\n",
              "    }\n",
              "\n",
              "    .dataframe thead th {\n",
              "        text-align: right;\n",
              "    }\n",
              "</style>\n",
              "<table border=\"1\" class=\"dataframe\">\n",
              "  <thead>\n",
              "    <tr style=\"text-align: right;\">\n",
              "      <th></th>\n",
              "      <th>Category</th>\n",
              "      <th>Message</th>\n",
              "    </tr>\n",
              "  </thead>\n",
              "  <tbody>\n",
              "    <tr>\n",
              "      <th>count</th>\n",
              "      <td>5572</td>\n",
              "      <td>5572</td>\n",
              "    </tr>\n",
              "    <tr>\n",
              "      <th>unique</th>\n",
              "      <td>2</td>\n",
              "      <td>5157</td>\n",
              "    </tr>\n",
              "    <tr>\n",
              "      <th>top</th>\n",
              "      <td>ham</td>\n",
              "      <td>Sorry, I'll call later</td>\n",
              "    </tr>\n",
              "    <tr>\n",
              "      <th>freq</th>\n",
              "      <td>4825</td>\n",
              "      <td>30</td>\n",
              "    </tr>\n",
              "  </tbody>\n",
              "</table>\n",
              "</div>"
            ],
            "text/plain": [
              "       Category                 Message\n",
              "count      5572                    5572\n",
              "unique        2                    5157\n",
              "top         ham  Sorry, I'll call later\n",
              "freq       4825                      30"
            ]
          },
          "metadata": {
            "tags": []
          },
          "execution_count": 36
        }
      ]
    },
    {
      "cell_type": "code",
      "metadata": {
        "id": "_jc-EN8gC8ir",
        "outputId": "bcf6428e-382f-42b8-c896-19e793f81920",
        "colab": {
          "base_uri": "https://localhost:8080/",
          "height": 301
        }
      },
      "source": [
        "cnt_pro = data['Category'].value_counts()\n",
        "plt.figure(figsize=(12,4))\n",
        "plt.bar(cnt_pro.index, cnt_pro.values, alpha=0.8, color=['blue', 'orange'])\n",
        "plt.ylabel('Number of Occurrences', fontsize=12)\n",
        "plt.xlabel('Category', fontsize=12)\n",
        "plt.xticks(rotation=90)\n",
        "plt.show();"
      ],
      "execution_count": 37,
      "outputs": [
        {
          "output_type": "display_data",
          "data": {
            "image/png": "[encoded data removed]",
            "text/plain": [
              "<Figure size 864x288 with 1 Axes>"
            ]
          },
          "metadata": {
            "tags": [],
            "needs_background": "light"
          }
        }
      ]
    },
    {
      "cell_type": "code",
      "metadata": {
        "id": "puVXsg0097Ly",
        "outputId": "31c4d561-1e3a-4d52-bc15-812874119b3b",
        "colab": {
          "base_uri": "https://localhost:8080/"
        }
      },
      "source": [
        "# What kind of language is used, what kind of cleanup is necessary\n",
        "def see_message(ind):\n",
        "  mess=data.iloc[ind][\"Message\"]\n",
        "  print(mess)\n",
        "  return(mess)\n",
        "for message in [0,15,25,35,50]:\n",
        "  see_message(message)"
      ],
      "execution_count": 38,
      "outputs": [
        {
          "output_type": "stream",
          "text": [
            "Go until jurong point, crazy.. Available only in bugis n great world la e buffet... Cine there got amore wat...\n",
            "XXXMobileMovieClub: To use your credit, click the WAP link in the next txt message or click here>> http://wap. xxxmobilemovieclub.com?n=QJKGIGHJJGCBL\n",
            "Just forced myself to eat a slice. I'm really not hungry tho. This sucks. Mark is getting worried. He knows I'm sick when I turn down pizza. Lol\n",
            "Yup... Ok i go home look at the timings then i msg ü again... Xuhui going to learn on 2nd may too but her lesson is at 8am\n",
            "What you thinked about me. First time you saw me in class.\n"
          ],
          "name": "stdout"
        }
      ]
    },
    {
      "cell_type": "code",
      "metadata": {
        "id": "QXLK5z3S5Sbm",
        "outputId": "26e41be3-6c59-4e57-d2c1-2d755b4b386e",
        "colab": {
          "base_uri": "https://localhost:8080/"
        }
      },
      "source": [
        "#check if we have empty strings, or punctuation only columns\n",
        "#they are not important here, we remove them\n",
        "to_remove =[]\n",
        "for i, row in data.iterrows():\n",
        "  if re.match(r'.*[A-Za-z]+.*',row[\"Message\"]) is None :\n",
        "    print(row[\"Message\"],\"at line\", i)\n",
        "    to_remove.append(i)\n",
        "data = data.drop(to_remove, axis =0) \n",
        "print(\"Removed the punctuation or numbers-only lines\") "
      ],
      "execution_count": 40,
      "outputs": [
        {
          "output_type": "stream",
          "text": [
            "Removed the punctuation or numbers-ony lines\n"
          ],
          "name": "stdout"
        }
      ]
    },
    {
      "cell_type": "code",
      "metadata": {
        "id": "Wdmjf3soBTL5",
        "outputId": "74aff0a0-4b18-4019-faef-4c1e07f94d99",
        "colab": {
          "base_uri": "https://localhost:8080/",
          "height": 55
        }
      },
      "source": [
        "#A little cleanup is necessary \n",
        "#I won't bother cleaning up the puctuation as it is done later by keras.preprocessing.tokenizer\n",
        "def clean_text(text):\n",
        "  #remove the https:// stuff\n",
        "  text = re.sub(r\"http\\S+\", \"\", text)\n",
        "  #remove the urls that don't have the http:// => solution = remove all strings that have a [some non-space characters].[two or three letters]/[some non-space characters] or [some non-space characters].[two or three letters]?[some non-space characters]\n",
        "  text = re.sub(r\"[^\\s]*\\.[a-z]{2,3}(\\\\|\\?)*[^\\s]*\", \"\", text)\n",
        "  return(text)\n",
        "\n",
        "clean_text(see_message(15))"
      ],
      "execution_count": 41,
      "outputs": [
        {
          "output_type": "stream",
          "text": [
            "XXXMobileMovieClub: To use your credit, click the WAP link in the next txt message or click here>> http://wap. xxxmobilemovieclub.com?n=QJKGIGHJJGCBL\n"
          ],
          "name": "stdout"
        },
        {
          "output_type": "execute_result",
          "data": {
            "application/vnd.google.colaboratory.intrinsic+json": {
              "type": "string"
            },
            "text/plain": [
              "'XXXMobileMovieClub: To use your credit, click the WAP link in the next txt message or click here>>  '"
            ]
          },
          "metadata": {
            "tags": []
          },
          "execution_count": 41
        }
      ]
    },
    {
      "cell_type": "markdown",
      "metadata": {
        "id": "q8Wyf0pSHIj9"
      },
      "source": [
        "<font color='red'>Question 1 : Pourqui dans le code ci-dessous, utilise-t-on keras.preprocessing.pad_sequences ?</font>"
      ]
    },
    {
      "cell_type": "code",
      "metadata": {
        "id": "ys3PVm2HEPwo"
      },
      "source": [
        "def tokenize_and_encode(text_data):\n",
        "  #fit Tokenizer : from sequences of words to lists of numbers\n",
        "  tokenizer = text.Tokenizer(\n",
        "            filters='!\"#$%&()*+,-./:;<=>?@[\\\\]^_`{|}~\\t\\n',\n",
        "            lower=True,\n",
        "            split=\" \",\n",
        "            oov_token=\"OUT_OF_VOCABULARY\"\n",
        "        )\n",
        "  tokenizer.fit_on_texts(text_data)\n",
        "  sequences = tokenizer.texts_to_sequences(text_data)\n",
        "  print(\"Example of output : \",  sequences[2])\n",
        "  print(\" For the input : \",text_data[2])\n",
        "\n",
        "  #pad the data for input into the RNN \n",
        "  #maxlen = max([len(x) for x in sequences])\n",
        "  padded_sequences = sequence.pad_sequences(sequences, padding=\"post\", maxlen=50)\n",
        "\n",
        "  print('Number of Unique Tokens: %d' % len(tokenizer.word_index))\n",
        "  return(padded_sequences, len(tokenizer.word_index)+1)"
      ],
      "execution_count": 46,
      "outputs": []
    },
    {
      "cell_type": "code",
      "metadata": {
        "id": "8dx0F5NEHl9N",
        "outputId": "a67be68c-f1ed-4d5d-e438-5e6244cad8f6",
        "colab": {
          "base_uri": "https://localhost:8080/"
        }
      },
      "source": [
        "#encoding the whole dataset\n",
        "#targets\n",
        "#Binarize categories\n",
        "targets = data[\"Category\"].apply(lambda x: 0 if x==\"spam\" else 1).tolist()\n",
        "one_hot_targets = np.eye(2)[targets]\n",
        "#text\n",
        "text_data, vocab_size = tokenize_and_encode(data[\"Message\"].apply(clean_text))"
      ],
      "execution_count": 47,
      "outputs": [
        {
          "output_type": "stream",
          "text": [
            "Example of output :  [47, 480, 9, 20, 5, 783, 941, 3, 178, 1917, 1086, 648, 1918, 2301, 259, 2302, 71, 1917, 3, 1919, 3, 330, 480, 544, 942, 74, 386, 181, 649, 387, 2946]\n",
            " For the input :  Free entry in 2 a wkly comp to win FA Cup final tkts 21st May 2005. Text FA to 87121 to receive entry question(std txt rate)T&C's apply 08452810075over18's\n",
            "Number of Unique Tokens: 8820\n"
          ],
          "name": "stdout"
        }
      ]
    },
    {
      "cell_type": "code",
      "metadata": {
        "id": "330prtBWLmFI",
        "outputId": "14b009e3-e1e9-437d-b962-7362ee233a62",
        "colab": {
          "base_uri": "https://localhost:8080/"
        }
      },
      "source": [
        "X_train, X_test, y_train, y_test = train_test_split(text_data, one_hot_targets, test_size=0.33, random_state=17)\n",
        "\n",
        "#Convert those arrays to numpy as it is the desired input to the Keras RNN\n",
        "X_train = np.array(X_train)\n",
        "X_test = np.array(X_test)\n",
        "y_train = np.array(y_train)\n",
        "y_test = np.array(y_test)\n",
        "\n",
        "print(\"Example of encoded train sequence: \", X_train[0])\n",
        "print(\"Example of encoded target: \", y_train[0])"
      ],
      "execution_count": 49,
      "outputs": [
        {
          "output_type": "stream",
          "text": [
            "Example of encoded train sequence:  [   5 1293  277   13  565   65   25 4070    3 1444  184  758   36   32\n",
            "  654  726   26 4071    7 4072  146   35  458    0    0    0    0    0\n",
            "    0    0    0    0    0    0    0    0    0    0    0    0    0    0\n",
            "    0    0    0    0    0    0    0    0]\n",
            "Example of encoded target:  [0. 1.]\n"
          ],
          "name": "stdout"
        }
      ]
    },
    {
      "cell_type": "code",
      "metadata": {
        "id": "Ocam_c9kRj9B"
      },
      "source": [
        "timestep = X_train[0].shape[0] # the length of a sequence (sentence, or time series, etc) is the timestep. It can vary, but we chose to pad to have a fixed length. Why ?\n",
        "n_features = 1 #each input on each timestep only is one number, so it is of size 1"
      ],
      "execution_count": 50,
      "outputs": []
    },
    {
      "cell_type": "markdown",
      "metadata": {
        "id": "VkxqKQPNMvsC"
      },
      "source": [
        "Pour les besoins de la démonstration, on se passe ici de cross-validation ou d'autres méthodes de validation et de tuning des hyperparamètres. Ce n'est pas rigoureux dans le cadre du développement d'un vrai modèle, il faudrait ici utiliser une fonction qui crée des sets de validation croisée comme vu dans le TP1"
      ]
    },
    {
      "cell_type": "code",
      "metadata": {
        "id": "1qZ1Rmptn0iC"
      },
      "source": [
        "#Fonction outil pour la suite\n",
        "def plot_history(history):\n",
        "    loss_list = [s for s in history.history.keys() if 'loss' in s and 'val' not in s]\n",
        "    val_loss_list = [s for s in history.history.keys() if 'loss' in s and 'val' in s]\n",
        "    acc_list = [s for s in history.history.keys() if 'acc' in s and 'val' not in s]\n",
        "    val_acc_list = [s for s in history.history.keys() if 'acc' in s and 'val' in s]\n",
        "    \n",
        "    if len(loss_list) == 0:\n",
        "        print('Loss is missing in history')\n",
        "        return \n",
        "    \n",
        "    ## As loss always exists\n",
        "    epochs = range(1,len(history.history[loss_list[0]]) + 1)\n",
        "    \n",
        "    ## Loss\n",
        "    plt.figure(1)\n",
        "    for l in loss_list:\n",
        "        plt.plot(epochs, history.history[l], 'b', label='Training loss (' + str(str(format(history.history[l][-1],'.5f'))+')'))\n",
        "    for l in val_loss_list:\n",
        "        plt.plot(epochs, history.history[l], 'g', label='Validation loss (' + str(str(format(history.history[l][-1],'.5f'))+')'))\n",
        "    \n",
        "    plt.title('Loss')\n",
        "    plt.xlabel('Epochs')\n",
        "    plt.ylabel('Loss')\n",
        "    plt.legend()\n",
        "    \n",
        "    ## Accuracy\n",
        "    plt.figure(2)\n",
        "    for l in acc_list:\n",
        "        plt.plot(epochs, history.history[l], 'b', label='Training accuracy (' + str(format(history.history[l][-1],'.5f'))+')')\n",
        "    for l in val_acc_list:    \n",
        "        plt.plot(epochs, history.history[l], 'g', label='Validation accuracy (' + str(format(history.history[l][-1],'.5f'))+')')\n",
        "\n",
        "    plt.title('Accuracy')\n",
        "    plt.xlabel('Epochs')\n",
        "    plt.ylabel('Accuracy')\n",
        "    plt.legend()\n",
        "    plt.show()"
      ],
      "execution_count": 51,
      "outputs": []
    },
    {
      "cell_type": "code",
      "metadata": {
        "id": "puFoj8fXoF0J"
      },
      "source": [
        "def plot_confusion_matrix(cm, classes,\n",
        "                          normalize=False,\n",
        "                          cmap=plt.cm.Blues):\n",
        "    \"\"\"\n",
        "    This function prints and plots the confusion matrix.\n",
        "    Normalization can be applied by setting `normalize=True`.\n",
        "    \"\"\"\n",
        "    if normalize:\n",
        "        cm = cm.astype('float') / cm.sum(axis=1)[:, np.newaxis]\n",
        "        title='Normalized confusion matrix'\n",
        "    else:\n",
        "        title='Confusion matrix'\n",
        "\n",
        "    plt.imshow(cm, interpolation='nearest', cmap=cmap)\n",
        "    plt.title(title)\n",
        "    plt.colorbar()\n",
        "    tick_marks = np.arange(len(classes))\n",
        "    plt.xticks(tick_marks, classes, rotation=45)\n",
        "    plt.yticks(tick_marks, classes)\n",
        "\n",
        "    fmt = '.2f' if normalize else 'd'\n",
        "    thresh = cm.max() / 2.\n",
        "    for i, j in itertools.product(range(cm.shape[0]), range(cm.shape[1])):\n",
        "        plt.text(j, i, format(cm[i, j], fmt),\n",
        "                 horizontalalignment=\"center\",\n",
        "                 color=\"white\" if cm[i, j] > thresh else \"black\")\n",
        "\n",
        "    plt.tight_layout()\n",
        "    plt.ylabel('True label')\n",
        "    plt.xlabel('Predicted label')\n",
        "    plt.show()\n",
        "    \n",
        "## multiclass or binary report\n",
        "## If binary (sigmoid output), set binary parameter to True\n",
        "def full_multiclass_report(model,\n",
        "                           x,\n",
        "                           y_true,\n",
        "                           classes,\n",
        "                           batch_size=32,\n",
        "                           binary=False):\n",
        "    \n",
        "    # 2. Predict probabilities and stores in y_pred\n",
        "    y_pred = model.predict(x, batch_size=batch_size)\n",
        "    y_pred = y_pred.argmax(axis=1)\n",
        "    y_true = y_true.argmax(axis=1)\n",
        "    \n",
        "    # 3. Print accuracy score\n",
        "    print(\"Accuracy : \"+ str(accuracy_score(y_true,y_pred)))\n",
        "    \n",
        "    print(\"\")\n",
        "    \n",
        "    # 4. Print classification report\n",
        "    print(\"Classification Report\")\n",
        "    print(classification_report(y_true,y_pred,digits=5))    \n",
        "    \n",
        "    # 5. Plot confusion matrix\n",
        "    cnf_matrix = confusion_matrix(y_true, y_pred)\n",
        "    print(cnf_matrix)\n",
        "    plot_confusion_matrix(cnf_matrix,classes=classes)"
      ],
      "execution_count": 52,
      "outputs": []
    },
    {
      "cell_type": "markdown",
      "metadata": {
        "id": "kJ8DLJTgQzsF"
      },
      "source": [
        "#3. Mon premier RNN\n",
        "\n",
        "Il s'agit ici de l'architecture de base d'un RNN comme vu précédemment."
      ]
    },
    {
      "cell_type": "code",
      "metadata": {
        "id": "UHDM0e-lPA9o"
      },
      "source": [
        "# Keras' input for any recurrent neural network requires the following shape : (batch_size, timestep, n_features)\n",
        "#batch_size can be None, it will be input at train time, this is a default in Keras if all timesteps are equal\n",
        "#timestep is the length of your sequence\n",
        "#n_features is the number of features on each timestep. Had you done some embedding pre-processing, it would be larger than 1\n",
        "input=Input(shape=(timestep))\n",
        "embedding = Embedding(input_dim=vocab_size, output_dim=200, mask_zero=True, embeddings_initializer=\"zeros\")(input)\n",
        "rnn_layer = SimpleRNN(units = 24, activation = \"sigmoid\", recurrent_initializer= \"random_normal\")(embedding) #in : size (None, timesteps, 64), out : size (None, units)\n",
        "dense_layer=Dense(2, activation = \"softmax\")(rnn_layer) #in : size(None, units), out : size(None,1)\n",
        "model_rnn=Model(input,dense_layer)"
      ],
      "execution_count": 53,
      "outputs": []
    },
    {
      "cell_type": "markdown",
      "metadata": {
        "id": "D6jjNj0XTmXV"
      },
      "source": [
        "<font color='red'> Questions : <ul>\n",
        "<li>Avez-vous vu que la dernière couche dense_layer est exactement la même chose qu'une classification logit ?</li>\n",
        "<li>Qu'avons-nous donc apporté comme plus-value avec le SimpleRNN ? </li>\n",
        "<li>Et donc, en quoi avons-nous fait du \"representation learning\" ici ?</li>\n",
        "</ul>\n",
        "</font>"
      ]
    },
    {
      "cell_type": "code",
      "metadata": {
        "id": "8hKcSh19U5g4",
        "outputId": "ec44c1de-ceb6-4071-8e30-838e48ba0a15",
        "colab": {
          "base_uri": "https://localhost:8080/"
        }
      },
      "source": [
        "#Output the model skeleton, and compile\n",
        "model_rnn.summary()"
      ],
      "execution_count": 54,
      "outputs": [
        {
          "output_type": "stream",
          "text": [
            "Model: \"functional_9\"\n",
            "_________________________________________________________________\n",
            "Layer (type)                 Output Shape              Param #   \n",
            "=================================================================\n",
            "input_5 (InputLayer)         [(None, 50)]              0         \n",
            "_________________________________________________________________\n",
            "embedding_4 (Embedding)      (None, 50, 200)           1764200   \n",
            "_________________________________________________________________\n",
            "simple_rnn_1 (SimpleRNN)     (None, 24)                5400      \n",
            "_________________________________________________________________\n",
            "dense_4 (Dense)              (None, 2)                 50        \n",
            "=================================================================\n",
            "Total params: 1,769,650\n",
            "Trainable params: 1,769,650\n",
            "Non-trainable params: 0\n",
            "_________________________________________________________________\n"
          ],
          "name": "stdout"
        }
      ]
    },
    {
      "cell_type": "code",
      "metadata": {
        "id": "JEdcp6o7WRPE",
        "outputId": "0b21d176-a816-4915-e964-e40a9877e589",
        "colab": {
          "base_uri": "https://localhost:8080/"
        }
      },
      "source": [
        "epochs = 25\n",
        "batch_size = 16\n",
        "optim = SGD(learning_rate=0.5)\n",
        "model_rnn.compile(optimizer=optim,loss=\"binary_crossentropy\", metrics = [\"binary_accuracy\"])\n",
        "\n",
        "#print_weights = LambdaCallback(on_epoch_end=lambda batch, logs: print(model.layers[1].get_weights())) #affiche les poids de la couche n*1, cad la couche SimpleRNN\n",
        "history = History()\n",
        "\n",
        "history=model_rnn.fit(X_train, y_train, epochs =epochs, batch_size=batch_size, verbose = 1, validation_split=0.2, callbacks = [history])#, print_weights])\n",
        "#watch out, pitfall in the code concerning validation data, documented here https://stackoverflow.com/questions/61706535/keras-validation-loss-and-accuracy-stuck-at-0"
      ],
      "execution_count": null,
      "outputs": [
        {
          "output_type": "stream",
          "text": [
            "Epoch 1/25\n",
            "187/187 [==============================] - 4s 20ms/step - loss: 0.4287 - binary_accuracy: 0.8546 - val_loss: 0.3791 - val_binary_accuracy: 0.8809\n",
            "Epoch 2/25\n",
            "187/187 [==============================] - 3s 18ms/step - loss: 0.4225 - binary_accuracy: 0.8549 - val_loss: 0.3734 - val_binary_accuracy: 0.8809\n",
            "Epoch 3/25\n",
            "187/187 [==============================] - 3s 18ms/step - loss: 0.3843 - binary_accuracy: 0.8562 - val_loss: 0.2989 - val_binary_accuracy: 0.8969\n",
            "Epoch 4/25\n",
            "187/187 [==============================] - 3s 18ms/step - loss: 0.2670 - binary_accuracy: 0.8938 - val_loss: 0.2850 - val_binary_accuracy: 0.9143\n",
            "Epoch 5/25\n",
            "187/187 [==============================] - 3s 19ms/step - loss: 0.1637 - binary_accuracy: 0.9383 - val_loss: 0.2340 - val_binary_accuracy: 0.9210\n",
            "Epoch 6/25\n",
            "187/187 [==============================] - 3s 18ms/step - loss: 0.0912 - binary_accuracy: 0.9682 - val_loss: 0.4576 - val_binary_accuracy: 0.7938\n",
            "Epoch 7/25\n",
            "187/187 [==============================] - 3s 19ms/step - loss: 0.0621 - binary_accuracy: 0.9786 - val_loss: 0.2154 - val_binary_accuracy: 0.9424\n",
            "Epoch 8/25\n",
            "187/187 [==============================] - 4s 19ms/step - loss: 0.0464 - binary_accuracy: 0.9842 - val_loss: 0.1892 - val_binary_accuracy: 0.9478\n",
            "Epoch 9/25\n",
            "120/187 [==================>...........] - ETA: 1s - loss: 0.0262 - binary_accuracy: 0.9932"
          ],
          "name": "stdout"
        }
      ]
    },
    {
      "cell_type": "code",
      "metadata": {
        "id": "gUWsmK7jjssp"
      },
      "source": [
        "plot_history(history)"
      ],
      "execution_count": null,
      "outputs": []
    },
    {
      "cell_type": "code",
      "metadata": {
        "id": "2H6PGdOPoNa3"
      },
      "source": [
        "full_multiclass_report(model_rnn, X_test, y_test, [0,1])"
      ],
      "execution_count": null,
      "outputs": []
    },
    {
      "cell_type": "markdown",
      "metadata": {
        "id": "jwgO0MTZ8vVx"
      },
      "source": [
        "C'est beau ! Maintenant, enlevez de votre modèle la couche d'embedding. Oh-oh...\n",
        "\n",
        "<font color='red'>Question : Quel est le problème qui vient d'arriver ?</font> (indice : regardez la loss, que devrait-elle faire quand on sur-entraine beaucoup trop ?...). Décommenter la ligne #print_weights, et relancer la cellule. Quel est le diagnostic, que s'est-il passé à votre avis?\n",
        "\n",
        "Ce problème est un problème courant des réseaux de neurones récurrents (mais pas que !), il s'appelle le <font color='red'>Vanishing Gradient</font>, ou la disparition du gradient. Plus de détails ici :\n",
        "https://towardsdatascience.com/the-vanishing-gradient-problem-69bf08b15484"
      ]
    },
    {
      "cell_type": "markdown",
      "metadata": {
        "id": "rZajxdW0G1ks"
      },
      "source": [
        "#4. LSTM, évolution du RNN\n",
        "\n",
        "Des solutions au gradient qui disparait sont:\n",
        "  - changer de fonction d'activation, sigmoid est bien identifié pour poser des problèmes. (pourquoi ?)\n",
        "  - bien initialiser les poids (pourquoi ?)\n",
        "  - ajouter des couches de normalisation (pourquoi ?)\n",
        "  - avec tensorflow, masquer proprement (nous venons de le voir)\n",
        "Dans le cas inverse, un gradient qui explose, souvent, on clippe le gradient.\n",
        "\n",
        "Le LSTM résout plusieurs problèmes liées aux RNN de base, mais surtout celui du gradient qui disparait ou explose. Il permet aussi plus de finesse dans ce dont on se \"souvient\" ou pas dans le réseau.\n",
        "\n",
        "---\n",
        "\n",
        "Nous allons reprendre notre problème initial de classification de messages, mais maintenant avec un LSTM, et des fonctions d'activation plus fines.\n",
        "\n",
        "Pour le LSTM, la documentation Keras est bien faite :\n",
        "https://keras.io/api/layers/recurrent_layers/lstm/ et \n",
        "https://keras.io/api/layers/activations/\n",
        "\n",
        "---\n",
        "\n",
        "Attention, le choix par défaut est quand même un choix ! Soyez au moins conscients d'avoir choisi telle fonction d'activation ou telle initialisation, car nous avons vu que cela peut avoir de grosses conséquences. "
      ]
    },
    {
      "cell_type": "code",
      "metadata": {
        "id": "nQFBbFafVleX"
      },
      "source": [
        "input=Input(shape=(timestep))\n",
        "embedding = Embedding(input_dim=vocab_size, output_dim=200, mask_zero=True)(input)\n",
        "lstm_layer = LSTM(units = 64, recurrent_activation = \"relu\")(embedding)\n",
        "dense_layer = Dense(2, activation = \"softmax\")(lstm_layer)\n",
        "\n",
        "model_lstm=Model(input,dense_layer)"
      ],
      "execution_count": 28,
      "outputs": []
    },
    {
      "cell_type": "code",
      "metadata": {
        "id": "3mq03w21WBpM"
      },
      "source": [
        "from keras.utils import plot_model\n",
        "plot_model(model_lstm)"
      ],
      "execution_count": null,
      "outputs": []
    },
    {
      "cell_type": "code",
      "metadata": {
        "id": "HliccGPkYeIs",
        "outputId": "f77fe725-52ca-4bd2-a4ed-0638e299f976",
        "colab": {
          "base_uri": "https://localhost:8080/"
        }
      },
      "source": [
        "epochs = 20\n",
        "batch_size = 16\n",
        "optim = Adam()\n",
        "model_lstm.compile(optimizer=optim,loss=\"binary_crossentropy\", metrics = [\"binary_accuracy\"])\n",
        "\n",
        "history = History()\n",
        "\n",
        "history=model_lstm.fit(X_train, y_train, epochs =epochs, batch_size=batch_size, verbose = 1, validation_split=0.2, callbacks = [history])"
      ],
      "execution_count": 30,
      "outputs": [
        {
          "output_type": "stream",
          "text": [
            "Epoch 1/20\n",
            "187/187 [==============================] - 12s 62ms/step - loss: 0.3901 - binary_accuracy: 0.8570 - val_loss: 0.1813 - val_binary_accuracy: 0.8795\n",
            "Epoch 2/20\n",
            "187/187 [==============================] - 11s 61ms/step - loss: 0.1444 - binary_accuracy: 0.9066 - val_loss: 0.1059 - val_binary_accuracy: 0.9813\n",
            "Epoch 3/20\n",
            "187/187 [==============================] - 11s 61ms/step - loss: 0.0203 - binary_accuracy: 0.9950 - val_loss: 0.0539 - val_binary_accuracy: 0.9853\n",
            "Epoch 4/20\n",
            "187/187 [==============================] - 11s 61ms/step - loss: 0.0046 - binary_accuracy: 0.9987 - val_loss: 0.0557 - val_binary_accuracy: 0.9826\n",
            "Epoch 5/20\n",
            "187/187 [==============================] - 11s 61ms/step - loss: 0.0025 - binary_accuracy: 0.9993 - val_loss: 0.0483 - val_binary_accuracy: 0.9920\n",
            "Epoch 6/20\n",
            "187/187 [==============================] - 12s 62ms/step - loss: 0.0014 - binary_accuracy: 0.9993 - val_loss: 0.0488 - val_binary_accuracy: 0.9920\n",
            "Epoch 7/20\n",
            "187/187 [==============================] - 12s 62ms/step - loss: 0.0012 - binary_accuracy: 0.9997 - val_loss: 0.0506 - val_binary_accuracy: 0.9906\n",
            "Epoch 8/20\n",
            "187/187 [==============================] - 12s 63ms/step - loss: 0.0013 - binary_accuracy: 0.9997 - val_loss: 0.0518 - val_binary_accuracy: 0.9880\n",
            "Epoch 9/20\n",
            "187/187 [==============================] - 12s 64ms/step - loss: 0.0013 - binary_accuracy: 0.9997 - val_loss: 0.0519 - val_binary_accuracy: 0.9893\n",
            "Epoch 10/20\n",
            "187/187 [==============================] - 12s 62ms/step - loss: 9.8870e-04 - binary_accuracy: 1.0000 - val_loss: 0.0532 - val_binary_accuracy: 0.9880\n",
            "Epoch 11/20\n",
            "187/187 [==============================] - 12s 62ms/step - loss: 9.5131e-04 - binary_accuracy: 1.0000 - val_loss: 0.0541 - val_binary_accuracy: 0.9880\n",
            "Epoch 12/20\n",
            "187/187 [==============================] - 15s 78ms/step - loss: 9.0289e-04 - binary_accuracy: 1.0000 - val_loss: 0.0550 - val_binary_accuracy: 0.9880\n",
            "Epoch 13/20\n",
            "187/187 [==============================] - 13s 70ms/step - loss: 7.8212e-04 - binary_accuracy: 1.0000 - val_loss: 0.0564 - val_binary_accuracy: 0.9866\n",
            "Epoch 14/20\n",
            "187/187 [==============================] - 11s 61ms/step - loss: 6.9860e-04 - binary_accuracy: 1.0000 - val_loss: 0.0570 - val_binary_accuracy: 0.9866\n",
            "Epoch 15/20\n",
            "187/187 [==============================] - 11s 61ms/step - loss: 6.8618e-04 - binary_accuracy: 1.0000 - val_loss: 0.0575 - val_binary_accuracy: 0.9866\n",
            "Epoch 16/20\n",
            "187/187 [==============================] - 11s 61ms/step - loss: 6.7786e-04 - binary_accuracy: 1.0000 - val_loss: 0.0579 - val_binary_accuracy: 0.9866\n",
            "Epoch 17/20\n",
            "187/187 [==============================] - 12s 63ms/step - loss: 6.7026e-04 - binary_accuracy: 1.0000 - val_loss: 0.0584 - val_binary_accuracy: 0.9866\n",
            "Epoch 18/20\n",
            "187/187 [==============================] - 11s 60ms/step - loss: 6.6349e-04 - binary_accuracy: 1.0000 - val_loss: 0.0590 - val_binary_accuracy: 0.9866\n",
            "Epoch 19/20\n",
            "187/187 [==============================] - 11s 61ms/step - loss: 6.5695e-04 - binary_accuracy: 1.0000 - val_loss: 0.0596 - val_binary_accuracy: 0.9866\n",
            "Epoch 20/20\n",
            "187/187 [==============================] - 11s 61ms/step - loss: 6.5042e-04 - binary_accuracy: 1.0000 - val_loss: 0.0601 - val_binary_accuracy: 0.9866\n"
          ],
          "name": "stdout"
        }
      ]
    },
    {
      "cell_type": "code",
      "metadata": {
        "id": "sNwTqSmxn2Wv",
        "outputId": "d4c4b913-51eb-4f24-9235-9355dbed488a",
        "colab": {
          "base_uri": "https://localhost:8080/",
          "height": 1000
        }
      },
      "source": [
        "plot_history(history)\n",
        "full_multiclass_report(model_lstm, X_test, y_test, [0,1])"
      ],
      "execution_count": 26,
      "outputs": [
        {
          "output_type": "display_data",
          "data": {
            "image/png": "[encoded data removed]",
            "text/plain": [
              "<Figure size 432x288 with 1 Axes>"
            ]
          },
          "metadata": {
            "tags": [],
            "needs_background": "light"
          }
        },
        {
          "output_type": "display_data",
          "data": {
            "image/png": "[encoded data removed]",
            "text/plain": [
              "<Figure size 432x288 with 1 Axes>"
            ]
          },
          "metadata": {
            "tags": [],
            "needs_background": "light"
          }
        },
        {
          "output_type": "stream",
          "text": [
            "Accuracy : 0.13050570962479607\n",
            "\n",
            "Classification Report\n",
            "              precision    recall  f1-score   support\n",
            "\n",
            "           0    0.13051   1.00000   0.23088       240\n",
            "           1    0.00000   0.00000   0.00000      1599\n",
            "\n",
            "    accuracy                        0.13051      1839\n",
            "   macro avg    0.06525   0.50000   0.11544      1839\n",
            "weighted avg    0.01703   0.13051   0.03013      1839\n",
            "\n",
            "[[ 240    0]\n",
            " [1599    0]]\n"
          ],
          "name": "stdout"
        },
        {
          "output_type": "stream",
          "text": [
            "/usr/local/lib/python3.6/dist-packages/sklearn/metrics/_classification.py:1272: UndefinedMetricWarning: Precision and F-score are ill-defined and being set to 0.0 in labels with no predicted samples. Use `zero_division` parameter to control this behavior.\n",
            "  _warn_prf(average, modifier, msg_start, len(result))\n"
          ],
          "name": "stderr"
        },
        {
          "output_type": "display_data",
          "data": {
            "image/png": "[encoded data removed]",
            "text/plain": [
              "<Figure size 432x288 with 2 Axes>"
            ]
          },
          "metadata": {
            "tags": [],
            "needs_background": "light"
          }
        }
      ]
    },
    {
      "cell_type": "markdown",
      "metadata": {
        "id": "QDewXT39UkAU"
      },
      "source": [
        "#5. Attention\n",
        "\n",
        "Code de l'attention repris de ce blog :\n",
        "https://matthewmcateer.me/blog/getting-started-with-attention-for-classification/\n",
        "\n",
        "Keras possède aussi un layer d'Attention selon Luong et d'attention selon Badanau https://keras.io/api/layers/attention_layers/additive_attention/.\n",
        "Je ne l'utilise pas car je n'arrive pas à voir explicitement à quoi correspondent key et value dans les calculs.\n",
        "\n",
        "Cette attention est un many-to-one, prenant donc les outputs d'un LSTM et applicant l'attention pour obtenir seulement le dernier output, car nous faisons de la classification. Pour de la traduction par exemple, la couche serait différente."
      ]
    },
    {
      "cell_type": "code",
      "metadata": {
        "id": "nykrNXjmH_YY"
      },
      "source": [
        "#class for Bahnadau attention (additive attention)\n",
        "from tensorflow.keras import Model\n",
        "import tensorflow as tf\n",
        "class AttentionB(Model):\n",
        "    def __init__(self, units, output_dim, name=\"attention\",**kwargs):\n",
        "        super(AttentionB, self).__init__(name=name)\n",
        "        self.W1 = Dense(units)\n",
        "        self.W2 = Dense(units)\n",
        "        self.V = Dense(1)\n",
        "        self.U = Dense(ouput_dim, activation= \"tanh\")\n",
        "\n",
        "    def call(self, h_s_bar, h_t):\n",
        "        #reshape h_t from (batch_size, hidden size) to (batch_size, 1, hidden size)\n",
        "        # we are doing this to perform addition to calculate the score\n",
        "        hidden_with_time_axis = tf.expand_dims(h_t, 1)\n",
        "\n",
        "        # the shape of the score tensor is (batch_size, max_length, units)\n",
        "        #units is the number of hidden units in the encoder LSTM\n",
        "        score_part1 = self.W1(h_s_bar) + self.W2(hidden_with_time_axis)\n",
        "        score = Activation(\"tanh\")(score_part1)\n",
        "        print(\"score:\", score.shape)\n",
        "\n",
        "        # attention_weights shape == (batch_size, max_length, 1)\n",
        "        # we get 1 at the last axis because we are applying score to self.V\n",
        "        attention_weights_part1 = self.V(score)\n",
        "        attention_weights = Activation(\"softmax\")\n",
        "        print(\"attention weights:\", attention_weights.shape)\n",
        "          \n",
        "        # context_vector shape after sum == (batch_size, hidden_size) #hidden_size = size of the hidden vector h_t that we input, not number of units nodes ! so hidden_size = size input in LSTM\n",
        "        context_vector = attention_weights * h_s_bar\n",
        "        print(\"context vector pre-sum:\", context_vector.shape)\n",
        "        context_vector = tf.reduce_sum(context_vector, axis=1)\n",
        "        print(\"context vector\", context_vector.shape)\n",
        "\n",
        "        concat_att_state= tf.concat([context_vector, h_t], 1)\n",
        "        print(\"concat att et ht:\", concat_att_state.shape)\n",
        "        attention_vector = self.U(concat_att_state)\n",
        "        print(\"attention vector:\", attention_vector.shape)\n",
        "        return  attention_vector, attention_weights"
      ],
      "execution_count": null,
      "outputs": []
    },
    {
      "cell_type": "code",
      "metadata": {
        "id": "ua39HbKk3ecZ"
      },
      "source": [
        "#class for Luong attention (multiplicative attention)\n",
        "from tensorflow.keras import Model\n",
        "from tensorflow.keras.layers import Dense, Lambda, dot, Activation, concatenate\n",
        "import tensorflow as tf\n",
        "class AttentionL(Model):\n",
        "    def __init__(self, output_dim=128, name=\"attention\",**kwargs):\n",
        "        super(AttentionL, self).__init__(name=name)\n",
        "        self.output_dim =output_dim\n",
        "        self.U = Dense(output_dim, activation =\"tanh\", name=\"attention_vector\", use_bias=False)\n",
        "\n",
        "    def call(self, encoder_hidden_states, h_t):\n",
        "        hidden_size = int(encoder_hidden_states.shape[2])\n",
        "        self.W = Dense(hidden_size)\n",
        "        self.V = Dense(1)\n",
        "        #print(\"encoder_h_s:\", encoder_hidden_states.shape)\n",
        "        #print(\"lst hidden state:\", h_t.shape)\n",
        "\n",
        "        # the shape of the score tensor is (batch_size, max_length, units)\n",
        "        score_first_part = self.W(encoder_hidden_states) #that is the W*h_s_bar in the slides' equations\n",
        "        # (batch_size, time_steps, hidden_size) dot (hidden_size, hidden_size) => (batch_size, time_steps, hidden_size)\n",
        "        #print(\"score part 1:\", score_first_part.shape)\n",
        "\n",
        "        h_t_with_time_axis = tf.expand_dims(h_t, 1)\n",
        "        #print(\"h_t_with_time_axis:\",  h_t_with_time_axis.shape)\n",
        "        score =  dot([score_first_part, h_t_with_time_axis], [2, 2], name='attention_score') # that is the h_t*W*h_s_bar in the slides' equations\n",
        "        # (batch_size, time_steps, hidden_size) dot   (batch_size, hidden_size)  => (batch_size, time_steps)\n",
        "        #print(\"score:\", score.shape)\n",
        "\n",
        "        # attention_weights shape == (batch_size, max_length, 1)\n",
        "        # we get 1 at the last axis because we are applying score to self.V\n",
        "        attention_weights = tf.nn.softmax(self.V(score), axis=1)\n",
        "        #print(\"attention weights:\", attention_weights.shape)\n",
        "          \n",
        "        # context_vector shape after sum == (batch_size, hidden_size) #hidden_size = size of the hidden vector h_t that we input, not number of units nodes ! so hidden_size = size input in LSTM\n",
        "        context_vector = dot()([attention_weights, encoder_hidden_states])\n",
        "        #print(\"context vector :\", context_vector.shape)\n",
        "\n",
        "        concat_att_state= concatenate([context_vector, h_t])\n",
        "        #print(\"concat att et ht:\", concat_att_state.shape)\n",
        "        attention_vector = self.U(concat_att_state)\n",
        "        #print(\"attention vector:\", attention_vector.shape)\n",
        "        return  attention_vector, attention_weights"
      ],
      "execution_count": 21,
      "outputs": []
    },
    {
      "cell_type": "code",
      "metadata": {
        "id": "27GDBqTRtvKV"
      },
      "source": [
        "#Modele avec attention \n",
        "\n",
        "input=Input(shape=(timestep))\n",
        "embedding = Embedding(input_dim=vocab_size, output_dim=200, mask_zero=True)(input)\n",
        "(lstm_seq, state_h, state_c) = LSTM(units = 64, recurrent_activation = \"relu\", return_sequences=True, return_state=True)(embedding)\n",
        "av, attention_weights = AttentionL(128, name=\"attention\")(lstm_seq, state_h)\n",
        "dense_layer = Dense(2, activation = \"relu\")(av)\n",
        "model_att = Model(inputs=input, outputs=dense_layer)"
      ],
      "execution_count": null,
      "outputs": []
    },
    {
      "cell_type": "code",
      "metadata": {
        "id": "FXfU0LhQNJQ-",
        "outputId": "01ac540d-e8d0-421a-aacb-f1b94f3fb099",
        "colab": {
          "base_uri": "https://localhost:8080/",
          "height": 192
        }
      },
      "source": [
        "from keras.utils import plot_model\n",
        "plot_model(model_att)"
      ],
      "execution_count": 22,
      "outputs": [
        {
          "output_type": "error",
          "ename": "NameError",
          "evalue": "ignored",
          "traceback": [
            "\u001b[0;31m---------------------------------------------------------------------------\u001b[0m",
            "\u001b[0;31mNameError\u001b[0m                                 Traceback (most recent call last)",
            "\u001b[0;32m<ipython-input-22-9590f0201912>\u001b[0m in \u001b[0;36m<module>\u001b[0;34m()\u001b[0m\n\u001b[1;32m      1\u001b[0m \u001b[0;32mfrom\u001b[0m \u001b[0mkeras\u001b[0m\u001b[0;34m.\u001b[0m\u001b[0mutils\u001b[0m \u001b[0;32mimport\u001b[0m \u001b[0mplot_model\u001b[0m\u001b[0;34m\u001b[0m\u001b[0;34m\u001b[0m\u001b[0m\n\u001b[0;32m----> 2\u001b[0;31m \u001b[0mplot_model\u001b[0m\u001b[0;34m(\u001b[0m\u001b[0mmodel_att\u001b[0m\u001b[0;34m)\u001b[0m\u001b[0;34m\u001b[0m\u001b[0;34m\u001b[0m\u001b[0m\n\u001b[0m",
            "\u001b[0;31mNameError\u001b[0m: name 'model_att' is not defined"
          ]
        }
      ]
    },
    {
      "cell_type": "code",
      "metadata": {
        "id": "OXqK-kBtNMVn",
        "outputId": "bdf9c20b-2916-42bb-884d-708bd400a6ba",
        "colab": {
          "base_uri": "https://localhost:8080/"
        }
      },
      "source": [
        "model_att.summary()"
      ],
      "execution_count": null,
      "outputs": [
        {
          "output_type": "stream",
          "text": [
            "Model: \"functional_57\"\n",
            "__________________________________________________________________________________________________\n",
            "Layer (type)                    Output Shape         Param #     Connected to                     \n",
            "==================================================================================================\n",
            "input_49 (InputLayer)           [(None, 50)]         0                                            \n",
            "__________________________________________________________________________________________________\n",
            "embedding_48 (Embedding)        (None, 50, 200)      1764400     input_49[0][0]                   \n",
            "__________________________________________________________________________________________________\n",
            "lstm_47 (LSTM)                  [(None, 50, 64), (No 67840       embedding_48[0][0]               \n",
            "__________________________________________________________________________________________________\n",
            "attention (AttentionL)          ((None, 128), (None, 20546       lstm_47[0][0]                    \n",
            "                                                                 lstm_47[0][1]                    \n",
            "__________________________________________________________________________________________________\n",
            "dense_49 (Dense)                (None, 2)            258         attention[0][0]                  \n",
            "==================================================================================================\n",
            "Total params: 1,853,044\n",
            "Trainable params: 1,853,044\n",
            "Non-trainable params: 0\n",
            "__________________________________________________________________________________________________\n"
          ],
          "name": "stdout"
        }
      ]
    },
    {
      "cell_type": "code",
      "metadata": {
        "id": "FeIGdZ4I5U37"
      },
      "source": [
        "#model for attention weights, share the exact same layers as our main model\n",
        "a_w_model = Model(inputs= model_att.inputs, outputs = model_att.get_layer(\"attention\").output)"
      ],
      "execution_count": null,
      "outputs": []
    },
    {
      "cell_type": "code",
      "metadata": {
        "id": "boT0oCAZw2QZ"
      },
      "source": [
        "from tensorflow.keras.callbacks import Callback\n",
        "\n",
        "# to visualise, we use the great boutny of keras' functional model.\n",
        "#we create our model that gets trained. And then on the side, we create another model, that shares exactly the same layers, but stops at the attention layer\n",
        "#the first model will train, and because they share layers, the layers of the visu model will also train\n",
        "#it suffices to get the output of the visu model to get the attention weights of the trained model\n",
        "\n",
        "class VisualiseAttentionMap(Callback):\n",
        "    def __init__(self, attention_weights_model, x_test, output_dir=None):\n",
        "        super(Callback, self).__init__()\n",
        "        self.visu_model = attention_weights_model\n",
        "        # best_weights to store the weights at which the minimum loss occurs.\n",
        "        self.x_test = x_test\n",
        "        self.output_dir = output_dir\n",
        "\n",
        "    def on_epoch_end(self, epoch, logs=None):\n",
        "        attention_map = self.visu_model.predict(self.x_test)\n",
        "        #print(attetion_map.shape)\n",
        "        # top is attention map.\n",
        "        # bottom is ground truth.\n",
        "        #plt.imshow(np.concatenate([attention_map, x_test_mask]), cmap='hot')\n",
        "\n",
        "        print(attention_map)\n",
        "\n",
        "        plt.imshow(attention_map, cmap='hot')\n",
        "\n",
        "        iteration_no = str(epoch).zfill(3)\n",
        "        plt.axis('off')\n",
        "        plt.title(f'Iteration {iteration_no} / {max_epoch}')\n",
        "        if self.output_dir is not None :\n",
        "          if not os.path.exists(self.output_dir):\n",
        "            os.makedirs(self.output_dir)\n",
        "          plt.savefig(f'{output_dir}/epoch_{iteration_no}.png')\n",
        "        plt.show()"
      ],
      "execution_count": null,
      "outputs": []
    },
    {
      "cell_type": "code",
      "metadata": {
        "id": "8lURVZE8u5H2",
        "outputId": "3ca2a08c-f906-4fed-d5d2-8632e1a4ae5f",
        "colab": {
          "base_uri": "https://localhost:8080/",
          "height": 1000
        }
      },
      "source": [
        "epochs = 25\n",
        "batch_size = 16\n",
        "optim = Adam()\n",
        "model_att.compile(optimizer=optim,loss=\"binary_crossentropy\", metrics = [\"binary_accuracy\"])\n",
        "\n",
        "history = History()\n",
        "#attmap = VisualiseAttentionMap(a_w_model, x_test=X_train[0:10])\n",
        "model_att.fit(X_train, y_train, epochs =epochs, batch_size=128, verbose = 1, validation_split=0.2)"
      ],
      "execution_count": null,
      "outputs": [
        {
          "output_type": "stream",
          "text": [
            "Epoch 1/25\n"
          ],
          "name": "stdout"
        },
        {
          "output_type": "error",
          "ename": "ValueError",
          "evalue": "ignored",
          "traceback": [
            "\u001b[0;31m---------------------------------------------------------------------------\u001b[0m",
            "\u001b[0;31mValueError\u001b[0m                                Traceback (most recent call last)",
            "\u001b[0;32m<ipython-input-192-6ea579a60d4c>\u001b[0m in \u001b[0;36m<module>\u001b[0;34m()\u001b[0m\n\u001b[1;32m      6\u001b[0m \u001b[0mhistory\u001b[0m \u001b[0;34m=\u001b[0m \u001b[0mHistory\u001b[0m\u001b[0;34m(\u001b[0m\u001b[0;34m)\u001b[0m\u001b[0;34m\u001b[0m\u001b[0;34m\u001b[0m\u001b[0m\n\u001b[1;32m      7\u001b[0m \u001b[0;31m#attmap = VisualiseAttentionMap(a_w_model, x_test=X_train[0:10])\u001b[0m\u001b[0;34m\u001b[0m\u001b[0;34m\u001b[0m\u001b[0;34m\u001b[0m\u001b[0m\n\u001b[0;32m----> 8\u001b[0;31m \u001b[0mmodel_att\u001b[0m\u001b[0;34m.\u001b[0m\u001b[0mfit\u001b[0m\u001b[0;34m(\u001b[0m\u001b[0mX_train\u001b[0m\u001b[0;34m,\u001b[0m \u001b[0my_train\u001b[0m\u001b[0;34m,\u001b[0m \u001b[0mepochs\u001b[0m \u001b[0;34m=\u001b[0m\u001b[0mepochs\u001b[0m\u001b[0;34m,\u001b[0m \u001b[0mbatch_size\u001b[0m\u001b[0;34m=\u001b[0m\u001b[0;36m128\u001b[0m\u001b[0;34m,\u001b[0m \u001b[0mverbose\u001b[0m \u001b[0;34m=\u001b[0m \u001b[0;36m1\u001b[0m\u001b[0;34m,\u001b[0m \u001b[0mvalidation_split\u001b[0m\u001b[0;34m=\u001b[0m\u001b[0;36m0.2\u001b[0m\u001b[0;34m)\u001b[0m\u001b[0;34m\u001b[0m\u001b[0;34m\u001b[0m\u001b[0m\n\u001b[0m",
            "\u001b[0;32m/usr/local/lib/python3.6/dist-packages/tensorflow/python/keras/engine/training.py\u001b[0m in \u001b[0;36m_method_wrapper\u001b[0;34m(self, *args, **kwargs)\u001b[0m\n\u001b[1;32m    106\u001b[0m   \u001b[0;32mdef\u001b[0m \u001b[0m_method_wrapper\u001b[0m\u001b[0;34m(\u001b[0m\u001b[0mself\u001b[0m\u001b[0;34m,\u001b[0m \u001b[0;34m*\u001b[0m\u001b[0margs\u001b[0m\u001b[0;34m,\u001b[0m \u001b[0;34m**\u001b[0m\u001b[0mkwargs\u001b[0m\u001b[0;34m)\u001b[0m\u001b[0;34m:\u001b[0m\u001b[0;34m\u001b[0m\u001b[0;34m\u001b[0m\u001b[0m\n\u001b[1;32m    107\u001b[0m     \u001b[0;32mif\u001b[0m \u001b[0;32mnot\u001b[0m \u001b[0mself\u001b[0m\u001b[0;34m.\u001b[0m\u001b[0m_in_multi_worker_mode\u001b[0m\u001b[0;34m(\u001b[0m\u001b[0;34m)\u001b[0m\u001b[0;34m:\u001b[0m  \u001b[0;31m# pylint: disable=protected-access\u001b[0m\u001b[0;34m\u001b[0m\u001b[0;34m\u001b[0m\u001b[0m\n\u001b[0;32m--> 108\u001b[0;31m       \u001b[0;32mreturn\u001b[0m \u001b[0mmethod\u001b[0m\u001b[0;34m(\u001b[0m\u001b[0mself\u001b[0m\u001b[0;34m,\u001b[0m \u001b[0;34m*\u001b[0m\u001b[0margs\u001b[0m\u001b[0;34m,\u001b[0m \u001b[0;34m**\u001b[0m\u001b[0mkwargs\u001b[0m\u001b[0;34m)\u001b[0m\u001b[0;34m\u001b[0m\u001b[0;34m\u001b[0m\u001b[0m\n\u001b[0m\u001b[1;32m    109\u001b[0m \u001b[0;34m\u001b[0m\u001b[0m\n\u001b[1;32m    110\u001b[0m     \u001b[0;31m# Running inside `run_distribute_coordinator` already.\u001b[0m\u001b[0;34m\u001b[0m\u001b[0;34m\u001b[0m\u001b[0;34m\u001b[0m\u001b[0m\n",
            "\u001b[0;32m/usr/local/lib/python3.6/dist-packages/tensorflow/python/keras/engine/training.py\u001b[0m in \u001b[0;36mfit\u001b[0;34m(self, x, y, batch_size, epochs, verbose, callbacks, validation_split, validation_data, shuffle, class_weight, sample_weight, initial_epoch, steps_per_epoch, validation_steps, validation_batch_size, validation_freq, max_queue_size, workers, use_multiprocessing)\u001b[0m\n\u001b[1;32m   1096\u001b[0m                 batch_size=batch_size):\n\u001b[1;32m   1097\u001b[0m               \u001b[0mcallbacks\u001b[0m\u001b[0;34m.\u001b[0m\u001b[0mon_train_batch_begin\u001b[0m\u001b[0;34m(\u001b[0m\u001b[0mstep\u001b[0m\u001b[0;34m)\u001b[0m\u001b[0;34m\u001b[0m\u001b[0;34m\u001b[0m\u001b[0m\n\u001b[0;32m-> 1098\u001b[0;31m               \u001b[0mtmp_logs\u001b[0m \u001b[0;34m=\u001b[0m \u001b[0mtrain_function\u001b[0m\u001b[0;34m(\u001b[0m\u001b[0miterator\u001b[0m\u001b[0;34m)\u001b[0m\u001b[0;34m\u001b[0m\u001b[0;34m\u001b[0m\u001b[0m\n\u001b[0m\u001b[1;32m   1099\u001b[0m               \u001b[0;32mif\u001b[0m \u001b[0mdata_handler\u001b[0m\u001b[0;34m.\u001b[0m\u001b[0mshould_sync\u001b[0m\u001b[0;34m:\u001b[0m\u001b[0;34m\u001b[0m\u001b[0;34m\u001b[0m\u001b[0m\n\u001b[1;32m   1100\u001b[0m                 \u001b[0mcontext\u001b[0m\u001b[0;34m.\u001b[0m\u001b[0masync_wait\u001b[0m\u001b[0;34m(\u001b[0m\u001b[0;34m)\u001b[0m\u001b[0;34m\u001b[0m\u001b[0;34m\u001b[0m\u001b[0m\n",
            "\u001b[0;32m/usr/local/lib/python3.6/dist-packages/tensorflow/python/eager/def_function.py\u001b[0m in \u001b[0;36m__call__\u001b[0;34m(self, *args, **kwds)\u001b[0m\n\u001b[1;32m    778\u001b[0m       \u001b[0;32melse\u001b[0m\u001b[0;34m:\u001b[0m\u001b[0;34m\u001b[0m\u001b[0;34m\u001b[0m\u001b[0m\n\u001b[1;32m    779\u001b[0m         \u001b[0mcompiler\u001b[0m \u001b[0;34m=\u001b[0m \u001b[0;34m\"nonXla\"\u001b[0m\u001b[0;34m\u001b[0m\u001b[0;34m\u001b[0m\u001b[0m\n\u001b[0;32m--> 780\u001b[0;31m         \u001b[0mresult\u001b[0m \u001b[0;34m=\u001b[0m \u001b[0mself\u001b[0m\u001b[0;34m.\u001b[0m\u001b[0m_call\u001b[0m\u001b[0;34m(\u001b[0m\u001b[0;34m*\u001b[0m\u001b[0margs\u001b[0m\u001b[0;34m,\u001b[0m \u001b[0;34m**\u001b[0m\u001b[0mkwds\u001b[0m\u001b[0;34m)\u001b[0m\u001b[0;34m\u001b[0m\u001b[0;34m\u001b[0m\u001b[0m\n\u001b[0m\u001b[1;32m    781\u001b[0m \u001b[0;34m\u001b[0m\u001b[0m\n\u001b[1;32m    782\u001b[0m       \u001b[0mnew_tracing_count\u001b[0m \u001b[0;34m=\u001b[0m \u001b[0mself\u001b[0m\u001b[0;34m.\u001b[0m\u001b[0m_get_tracing_count\u001b[0m\u001b[0;34m(\u001b[0m\u001b[0;34m)\u001b[0m\u001b[0;34m\u001b[0m\u001b[0;34m\u001b[0m\u001b[0m\n",
            "\u001b[0;32m/usr/local/lib/python3.6/dist-packages/tensorflow/python/eager/def_function.py\u001b[0m in \u001b[0;36m_call\u001b[0;34m(self, *args, **kwds)\u001b[0m\n\u001b[1;32m    838\u001b[0m         \u001b[0;31m# Lifting succeeded, so variables are initialized and we can run the\u001b[0m\u001b[0;34m\u001b[0m\u001b[0;34m\u001b[0m\u001b[0;34m\u001b[0m\u001b[0m\n\u001b[1;32m    839\u001b[0m         \u001b[0;31m# stateless function.\u001b[0m\u001b[0;34m\u001b[0m\u001b[0;34m\u001b[0m\u001b[0;34m\u001b[0m\u001b[0m\n\u001b[0;32m--> 840\u001b[0;31m         \u001b[0;32mreturn\u001b[0m \u001b[0mself\u001b[0m\u001b[0;34m.\u001b[0m\u001b[0m_stateless_fn\u001b[0m\u001b[0;34m(\u001b[0m\u001b[0;34m*\u001b[0m\u001b[0margs\u001b[0m\u001b[0;34m,\u001b[0m \u001b[0;34m**\u001b[0m\u001b[0mkwds\u001b[0m\u001b[0;34m)\u001b[0m\u001b[0;34m\u001b[0m\u001b[0;34m\u001b[0m\u001b[0m\n\u001b[0m\u001b[1;32m    841\u001b[0m     \u001b[0;32melse\u001b[0m\u001b[0;34m:\u001b[0m\u001b[0;34m\u001b[0m\u001b[0;34m\u001b[0m\u001b[0m\n\u001b[1;32m    842\u001b[0m       \u001b[0mcanon_args\u001b[0m\u001b[0;34m,\u001b[0m \u001b[0mcanon_kwds\u001b[0m \u001b[0;34m=\u001b[0m\u001b[0;31m \u001b[0m\u001b[0;31m\\\u001b[0m\u001b[0;34m\u001b[0m\u001b[0;34m\u001b[0m\u001b[0m\n",
            "\u001b[0;32m/usr/local/lib/python3.6/dist-packages/tensorflow/python/eager/function.py\u001b[0m in \u001b[0;36m__call__\u001b[0;34m(self, *args, **kwargs)\u001b[0m\n\u001b[1;32m   2826\u001b[0m     \u001b[0;34m\"\"\"Calls a graph function specialized to the inputs.\"\"\"\u001b[0m\u001b[0;34m\u001b[0m\u001b[0;34m\u001b[0m\u001b[0m\n\u001b[1;32m   2827\u001b[0m     \u001b[0;32mwith\u001b[0m \u001b[0mself\u001b[0m\u001b[0;34m.\u001b[0m\u001b[0m_lock\u001b[0m\u001b[0;34m:\u001b[0m\u001b[0;34m\u001b[0m\u001b[0;34m\u001b[0m\u001b[0m\n\u001b[0;32m-> 2828\u001b[0;31m       \u001b[0mgraph_function\u001b[0m\u001b[0;34m,\u001b[0m \u001b[0margs\u001b[0m\u001b[0;34m,\u001b[0m \u001b[0mkwargs\u001b[0m \u001b[0;34m=\u001b[0m \u001b[0mself\u001b[0m\u001b[0;34m.\u001b[0m\u001b[0m_maybe_define_function\u001b[0m\u001b[0;34m(\u001b[0m\u001b[0margs\u001b[0m\u001b[0;34m,\u001b[0m \u001b[0mkwargs\u001b[0m\u001b[0;34m)\u001b[0m\u001b[0;34m\u001b[0m\u001b[0;34m\u001b[0m\u001b[0m\n\u001b[0m\u001b[1;32m   2829\u001b[0m     \u001b[0;32mreturn\u001b[0m \u001b[0mgraph_function\u001b[0m\u001b[0;34m.\u001b[0m\u001b[0m_filtered_call\u001b[0m\u001b[0;34m(\u001b[0m\u001b[0margs\u001b[0m\u001b[0;34m,\u001b[0m \u001b[0mkwargs\u001b[0m\u001b[0;34m)\u001b[0m  \u001b[0;31m# pylint: disable=protected-access\u001b[0m\u001b[0;34m\u001b[0m\u001b[0;34m\u001b[0m\u001b[0m\n\u001b[1;32m   2830\u001b[0m \u001b[0;34m\u001b[0m\u001b[0m\n",
            "\u001b[0;32m/usr/local/lib/python3.6/dist-packages/tensorflow/python/eager/function.py\u001b[0m in \u001b[0;36m_maybe_define_function\u001b[0;34m(self, args, kwargs)\u001b[0m\n\u001b[1;32m   3211\u001b[0m \u001b[0;34m\u001b[0m\u001b[0m\n\u001b[1;32m   3212\u001b[0m       \u001b[0mself\u001b[0m\u001b[0;34m.\u001b[0m\u001b[0m_function_cache\u001b[0m\u001b[0;34m.\u001b[0m\u001b[0mmissed\u001b[0m\u001b[0;34m.\u001b[0m\u001b[0madd\u001b[0m\u001b[0;34m(\u001b[0m\u001b[0mcall_context_key\u001b[0m\u001b[0;34m)\u001b[0m\u001b[0;34m\u001b[0m\u001b[0;34m\u001b[0m\u001b[0m\n\u001b[0;32m-> 3213\u001b[0;31m       \u001b[0mgraph_function\u001b[0m \u001b[0;34m=\u001b[0m \u001b[0mself\u001b[0m\u001b[0;34m.\u001b[0m\u001b[0m_create_graph_function\u001b[0m\u001b[0;34m(\u001b[0m\u001b[0margs\u001b[0m\u001b[0;34m,\u001b[0m \u001b[0mkwargs\u001b[0m\u001b[0;34m)\u001b[0m\u001b[0;34m\u001b[0m\u001b[0;34m\u001b[0m\u001b[0m\n\u001b[0m\u001b[1;32m   3214\u001b[0m       \u001b[0mself\u001b[0m\u001b[0;34m.\u001b[0m\u001b[0m_function_cache\u001b[0m\u001b[0;34m.\u001b[0m\u001b[0mprimary\u001b[0m\u001b[0;34m[\u001b[0m\u001b[0mcache_key\u001b[0m\u001b[0;34m]\u001b[0m \u001b[0;34m=\u001b[0m \u001b[0mgraph_function\u001b[0m\u001b[0;34m\u001b[0m\u001b[0;34m\u001b[0m\u001b[0m\n\u001b[1;32m   3215\u001b[0m       \u001b[0;32mreturn\u001b[0m \u001b[0mgraph_function\u001b[0m\u001b[0;34m,\u001b[0m \u001b[0margs\u001b[0m\u001b[0;34m,\u001b[0m \u001b[0mkwargs\u001b[0m\u001b[0;34m\u001b[0m\u001b[0;34m\u001b[0m\u001b[0m\n",
            "\u001b[0;32m/usr/local/lib/python3.6/dist-packages/tensorflow/python/eager/function.py\u001b[0m in \u001b[0;36m_create_graph_function\u001b[0;34m(self, args, kwargs, override_flat_arg_shapes)\u001b[0m\n\u001b[1;32m   3073\u001b[0m             \u001b[0marg_names\u001b[0m\u001b[0;34m=\u001b[0m\u001b[0marg_names\u001b[0m\u001b[0;34m,\u001b[0m\u001b[0;34m\u001b[0m\u001b[0;34m\u001b[0m\u001b[0m\n\u001b[1;32m   3074\u001b[0m             \u001b[0moverride_flat_arg_shapes\u001b[0m\u001b[0;34m=\u001b[0m\u001b[0moverride_flat_arg_shapes\u001b[0m\u001b[0;34m,\u001b[0m\u001b[0;34m\u001b[0m\u001b[0;34m\u001b[0m\u001b[0m\n\u001b[0;32m-> 3075\u001b[0;31m             capture_by_value=self._capture_by_value),\n\u001b[0m\u001b[1;32m   3076\u001b[0m         \u001b[0mself\u001b[0m\u001b[0;34m.\u001b[0m\u001b[0m_function_attributes\u001b[0m\u001b[0;34m,\u001b[0m\u001b[0;34m\u001b[0m\u001b[0;34m\u001b[0m\u001b[0m\n\u001b[1;32m   3077\u001b[0m         \u001b[0mfunction_spec\u001b[0m\u001b[0;34m=\u001b[0m\u001b[0mself\u001b[0m\u001b[0;34m.\u001b[0m\u001b[0mfunction_spec\u001b[0m\u001b[0;34m,\u001b[0m\u001b[0;34m\u001b[0m\u001b[0;34m\u001b[0m\u001b[0m\n",
            "\u001b[0;32m/usr/local/lib/python3.6/dist-packages/tensorflow/python/framework/func_graph.py\u001b[0m in \u001b[0;36mfunc_graph_from_py_func\u001b[0;34m(name, python_func, args, kwargs, signature, func_graph, autograph, autograph_options, add_control_dependencies, arg_names, op_return_value, collections, capture_by_value, override_flat_arg_shapes)\u001b[0m\n\u001b[1;32m    984\u001b[0m         \u001b[0m_\u001b[0m\u001b[0;34m,\u001b[0m \u001b[0moriginal_func\u001b[0m \u001b[0;34m=\u001b[0m \u001b[0mtf_decorator\u001b[0m\u001b[0;34m.\u001b[0m\u001b[0munwrap\u001b[0m\u001b[0;34m(\u001b[0m\u001b[0mpython_func\u001b[0m\u001b[0;34m)\u001b[0m\u001b[0;34m\u001b[0m\u001b[0;34m\u001b[0m\u001b[0m\n\u001b[1;32m    985\u001b[0m \u001b[0;34m\u001b[0m\u001b[0m\n\u001b[0;32m--> 986\u001b[0;31m       \u001b[0mfunc_outputs\u001b[0m \u001b[0;34m=\u001b[0m \u001b[0mpython_func\u001b[0m\u001b[0;34m(\u001b[0m\u001b[0;34m*\u001b[0m\u001b[0mfunc_args\u001b[0m\u001b[0;34m,\u001b[0m \u001b[0;34m**\u001b[0m\u001b[0mfunc_kwargs\u001b[0m\u001b[0;34m)\u001b[0m\u001b[0;34m\u001b[0m\u001b[0;34m\u001b[0m\u001b[0m\n\u001b[0m\u001b[1;32m    987\u001b[0m \u001b[0;34m\u001b[0m\u001b[0m\n\u001b[1;32m    988\u001b[0m       \u001b[0;31m# invariant: `func_outputs` contains only Tensors, CompositeTensors,\u001b[0m\u001b[0;34m\u001b[0m\u001b[0;34m\u001b[0m\u001b[0;34m\u001b[0m\u001b[0m\n",
            "\u001b[0;32m/usr/local/lib/python3.6/dist-packages/tensorflow/python/eager/def_function.py\u001b[0m in \u001b[0;36mwrapped_fn\u001b[0;34m(*args, **kwds)\u001b[0m\n\u001b[1;32m    598\u001b[0m         \u001b[0;31m# __wrapped__ allows AutoGraph to swap in a converted function. We give\u001b[0m\u001b[0;34m\u001b[0m\u001b[0;34m\u001b[0m\u001b[0;34m\u001b[0m\u001b[0m\n\u001b[1;32m    599\u001b[0m         \u001b[0;31m# the function a weak reference to itself to avoid a reference cycle.\u001b[0m\u001b[0;34m\u001b[0m\u001b[0;34m\u001b[0m\u001b[0;34m\u001b[0m\u001b[0m\n\u001b[0;32m--> 600\u001b[0;31m         \u001b[0;32mreturn\u001b[0m \u001b[0mweak_wrapped_fn\u001b[0m\u001b[0;34m(\u001b[0m\u001b[0;34m)\u001b[0m\u001b[0;34m.\u001b[0m\u001b[0m__wrapped__\u001b[0m\u001b[0;34m(\u001b[0m\u001b[0;34m*\u001b[0m\u001b[0margs\u001b[0m\u001b[0;34m,\u001b[0m \u001b[0;34m**\u001b[0m\u001b[0mkwds\u001b[0m\u001b[0;34m)\u001b[0m\u001b[0;34m\u001b[0m\u001b[0;34m\u001b[0m\u001b[0m\n\u001b[0m\u001b[1;32m    601\u001b[0m     \u001b[0mweak_wrapped_fn\u001b[0m \u001b[0;34m=\u001b[0m \u001b[0mweakref\u001b[0m\u001b[0;34m.\u001b[0m\u001b[0mref\u001b[0m\u001b[0;34m(\u001b[0m\u001b[0mwrapped_fn\u001b[0m\u001b[0;34m)\u001b[0m\u001b[0;34m\u001b[0m\u001b[0;34m\u001b[0m\u001b[0m\n\u001b[1;32m    602\u001b[0m \u001b[0;34m\u001b[0m\u001b[0m\n",
            "\u001b[0;32m/usr/local/lib/python3.6/dist-packages/tensorflow/python/framework/func_graph.py\u001b[0m in \u001b[0;36mwrapper\u001b[0;34m(*args, **kwargs)\u001b[0m\n\u001b[1;32m    971\u001b[0m           \u001b[0;32mexcept\u001b[0m \u001b[0mException\u001b[0m \u001b[0;32mas\u001b[0m \u001b[0me\u001b[0m\u001b[0;34m:\u001b[0m  \u001b[0;31m# pylint:disable=broad-except\u001b[0m\u001b[0;34m\u001b[0m\u001b[0;34m\u001b[0m\u001b[0m\n\u001b[1;32m    972\u001b[0m             \u001b[0;32mif\u001b[0m \u001b[0mhasattr\u001b[0m\u001b[0;34m(\u001b[0m\u001b[0me\u001b[0m\u001b[0;34m,\u001b[0m \u001b[0;34m\"ag_error_metadata\"\u001b[0m\u001b[0;34m)\u001b[0m\u001b[0;34m:\u001b[0m\u001b[0;34m\u001b[0m\u001b[0;34m\u001b[0m\u001b[0m\n\u001b[0;32m--> 973\u001b[0;31m               \u001b[0;32mraise\u001b[0m \u001b[0me\u001b[0m\u001b[0;34m.\u001b[0m\u001b[0mag_error_metadata\u001b[0m\u001b[0;34m.\u001b[0m\u001b[0mto_exception\u001b[0m\u001b[0;34m(\u001b[0m\u001b[0me\u001b[0m\u001b[0;34m)\u001b[0m\u001b[0;34m\u001b[0m\u001b[0;34m\u001b[0m\u001b[0m\n\u001b[0m\u001b[1;32m    974\u001b[0m             \u001b[0;32melse\u001b[0m\u001b[0;34m:\u001b[0m\u001b[0;34m\u001b[0m\u001b[0;34m\u001b[0m\u001b[0m\n\u001b[1;32m    975\u001b[0m               \u001b[0;32mraise\u001b[0m\u001b[0;34m\u001b[0m\u001b[0;34m\u001b[0m\u001b[0m\n",
            "\u001b[0;31mValueError\u001b[0m: in user code:\n\n    /usr/local/lib/python3.6/dist-packages/tensorflow/python/keras/engine/training.py:806 train_function  *\n        return step_function(self, iterator)\n    <ipython-input-186-7bd9b4b6a79c>:19 call  *\n        score_first_part = self.W(encoder_hidden_states) #that is the W*h_s_bar in the slides' equations\n    /usr/local/lib/python3.6/dist-packages/tensorflow/python/keras/engine/base_layer.py:982 __call__  **\n        self._maybe_build(inputs)\n    /usr/local/lib/python3.6/dist-packages/tensorflow/python/keras/engine/base_layer.py:2643 _maybe_build\n        self.build(input_shapes)  # pylint:disable=not-callable\n    /usr/local/lib/python3.6/dist-packages/tensorflow/python/keras/layers/core.py:1178 build\n        trainable=True)\n    /usr/local/lib/python3.6/dist-packages/tensorflow/python/keras/engine/base_layer.py:614 add_weight\n        caching_device=caching_device)\n    /usr/local/lib/python3.6/dist-packages/tensorflow/python/training/tracking/base.py:750 _add_variable_with_custom_getter\n        **kwargs_for_getter)\n    /usr/local/lib/python3.6/dist-packages/tensorflow/python/keras/engine/base_layer_utils.py:145 make_variable\n        shape=variable_shape if variable_shape else None)\n    /usr/local/lib/python3.6/dist-packages/tensorflow/python/ops/variables.py:260 __call__\n        return cls._variable_v1_call(*args, **kwargs)\n    /usr/local/lib/python3.6/dist-packages/tensorflow/python/ops/variables.py:221 _variable_v1_call\n        shape=shape)\n    /usr/local/lib/python3.6/dist-packages/tensorflow/python/ops/variables.py:67 getter\n        return captured_getter(captured_previous, **kwargs)\n    /usr/local/lib/python3.6/dist-packages/tensorflow/python/distribute/distribute_lib.py:2857 creator\n        return next_creator(**kwargs)\n    /usr/local/lib/python3.6/dist-packages/tensorflow/python/ops/variables.py:67 getter\n        return captured_getter(captured_previous, **kwargs)\n    /usr/local/lib/python3.6/dist-packages/tensorflow/python/distribute/distribute_lib.py:2857 creator\n        return next_creator(**kwargs)\n    /usr/local/lib/python3.6/dist-packages/tensorflow/python/ops/variables.py:67 getter\n        return captured_getter(captured_previous, **kwargs)\n    /usr/local/lib/python3.6/dist-packages/tensorflow/python/distribute/distribute_lib.py:2857 creator\n        return next_creator(**kwargs)\n    /usr/local/lib/python3.6/dist-packages/tensorflow/python/ops/variables.py:67 getter\n        return captured_getter(captured_previous, **kwargs)\n    /usr/local/lib/python3.6/dist-packages/tensorflow/python/eager/def_function.py:702 invalid_creator_scope\n        \"tf.function-decorated function tried to create \"\n\n    ValueError: tf.function-decorated function tried to create variables on non-first call.\n"
          ]
        }
      ]
    },
    {
      "cell_type": "code",
      "metadata": {
        "id": "p-UTD7sg3S58"
      },
      "source": [
        ""
      ],
      "execution_count": null,
      "outputs": []
    }
  ]
}